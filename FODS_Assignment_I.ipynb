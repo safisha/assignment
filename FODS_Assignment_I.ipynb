{
  "nbformat": 4,
  "nbformat_minor": 0,
  "metadata": {
    "colab": {
      "name": "FODS_Assignment_I.ipynb",
      "provenance": []
    },
    "kernelspec": {
      "name": "python3",
      "display_name": "Python 3"
    }
  },
  "cells": [
    {
      "cell_type": "markdown",
      "metadata": {
        "id": "uiK0fGWOnXcQ"
      },
      "source": [
        "Book :- \r\n",
        "Author :- Mark Lutz \r\n",
        "1. Learning Python 5th Edition O'Reilly\r\n",
        "2.Python Cookbook  David Beazley O'Reilly \r\n",
        "\r\n",
        "Link:- \r\n",
        "1. http://www.cs.uni.edu/~fienup/cs051f10/lectures/\r\n",
        "2. https://github.com/MrAlex6204/Books/blob/master/Learning%20Python%2C%205th%20Edition.pdf\r\n",
        "3. https://github.com/tomarraj008/data_books/blob/master/Python%20Cookbook%2C%203rd%20Edition.pdf\r\n",
        "\r\n"
      ]
    },
    {
      "cell_type": "markdown",
      "metadata": {
        "id": "g5RW89-P01bg"
      },
      "source": [
        "First Week Assignment \r\n",
        "\r\n",
        "Test Your Knowledge: Quiz \r\n",
        "\r\n",
        "1. What are the six main reasons that people choose to use Python?\r\n",
        "2. Name four notable companies or organizations using Python today.\r\n",
        "3. Why might you not want to use Python in an application?\r\n",
        "4. What can you do with Python?\r\n",
        "5. What’s the significance of the Python import this statement?\r\n",
        "6. Why does “spam” show up in so many Python examples in books and on the Web?\r\n",
        "7. What is your favorite color?\r\n",
        "\r\n",
        "\r\n",
        "Test Your Knowledge: Quiz\r\n",
        "1. What is the Python interpreter?\r\n",
        "2. What is source code?\r\n",
        "3. What is byte code?\r\n",
        "4. What is the PVM?\r\n",
        "5. Name two or more variations on Python’s standard execution model.\r\n",
        "6. How are CPython, Jython, and IronPython different?\r\n",
        "7. What are Stackless and PyPy?\r\n",
        "\r\n",
        "Test Your Knowledge: Quiz\r\n",
        "1. How can you start an interactive interpreter session?\r\n",
        "2. Where do you type a system command line to launch a script file?\r\n",
        "3. Name four or more ways to run the code saved in a script file.\r\n",
        "4. Name two pitfalls related to clicking file icons on Windows.\r\n",
        "5. Why might you need to reload a module?\r\n",
        "6. How do you run a script from within IDLE?\r\n",
        "7. Name two pitfalls related to using IDLE.\r\n",
        "8. What is a namespace, and how does it relate to module files?\r\n",
        "\r\n",
        "\r\n",
        "Test Your Knowledge: Quiz\r\n",
        "\r\n",
        "1. Name four of Python’s core data types.\r\n",
        "2. Why are they called “core” data types?\r\n",
        "3. What does “immutable” mean, and which three of Python’s core types are considered immutable?\r\n",
        "4. What does “sequence” mean, and which three types fall into that category?\r\n",
        "5. What does “mapping” mean, and which core type is a mapping?\r\n",
        "6. What is “polymorphism,” and why should you care?\r\n",
        "\r\n",
        "\r\n",
        "\r\n"
      ]
    },
    {
      "cell_type": "markdown",
      "metadata": {
        "id": "6kafgQs5S8WY"
      },
      "source": [
        "**Projects:-**<br>\r\n",
        "1. Open a Python shell, enter the following expressions, and observe the results:<br>\r\n",
        "a. 8<br>\r\n",
        "b. 8 * 2<br>\r\n",
        "c. 8 ** 2<br>\r\n",
        "d. 8/12<br>\r\n",
        "e. 8 // 12<br>\r\n",
        "f. 8/0"
      ]
    },
    {
      "cell_type": "code",
      "metadata": {
        "id": "M0vvPpdkTWOZ",
        "outputId": "0d3782ab-2196-4ce5-81dc-1b239bab6842",
        "colab": {
          "base_uri": "https://localhost:8080/"
        }
      },
      "source": [
        "a= 8\r\n",
        "b=8*2\r\n",
        "c=8**2\r\n",
        "d=8/12\r\n",
        "e=8//12\r\n",
        "print(a,b,c,d,e)"
      ],
      "execution_count": 1,
      "outputs": [
        {
          "output_type": "stream",
          "text": [
            "8 16 64 0.6666666666666666 0\n"
          ],
          "name": "stdout"
        }
      ]
    },
    {
      "cell_type": "markdown",
      "metadata": {
        "id": "yKSPYf1aJIVz"
      },
      "source": [
        "8/0 is not valid."
      ]
    },
    {
      "cell_type": "markdown",
      "metadata": {
        "id": "ySRylLzXTg4L"
      },
      "source": [
        "2. Write a Python program that prints (displays) your name, address, and telephone number"
      ]
    },
    {
      "cell_type": "code",
      "metadata": {
        "id": "IC-e8BmAUMex",
        "outputId": "be946eee-944d-4f9b-bfeb-8bafedcf6291",
        "colab": {
          "base_uri": "https://localhost:8080/"
        }
      },
      "source": [
        "a='Safisha Joshi'\r\n",
        "b='Pepsicola'\r\n",
        "c=9840013876\r\n",
        "print('My name is ' + a + '.'+'I live in ' + b +'. My no. is',c )"
      ],
      "execution_count": 2,
      "outputs": [
        {
          "output_type": "stream",
          "text": [
            "My name is Safisha Joshi.I live in Pepsicola. My no. is 9840013876\n"
          ],
          "name": "stdout"
        }
      ]
    },
    {
      "cell_type": "markdown",
      "metadata": {
        "id": "H-t99QCLUNap"
      },
      "source": [
        "3. Evaluate the following code at a shell prompt: print(\"Your name is\", name). Then assign name an appropriate value, and evaluate the statement again."
      ]
    },
    {
      "cell_type": "code",
      "metadata": {
        "id": "dXcXgJUSUhwR",
        "outputId": "66f2610b-36fe-48e2-87ba-c8ae3a47c475",
        "colab": {
          "base_uri": "https://localhost:8080/"
        }
      },
      "source": [
        "name=input('enter your name ')\r\n",
        "print(\"your name is\",name)"
      ],
      "execution_count": 3,
      "outputs": [
        {
          "output_type": "stream",
          "text": [
            "enter your name safisha joshi\n",
            "your name is safisha joshi\n"
          ],
          "name": "stdout"
        }
      ]
    },
    {
      "cell_type": "markdown",
      "metadata": {
        "id": "qjgWML-AUi-v"
      },
      "source": [
        "4. Write and test a program that accepts the user's name(as text) and age(as a number) as input. The program should output a sentense containing the user's name and age."
      ]
    },
    {
      "cell_type": "code",
      "metadata": {
        "id": "a3yt3ND1WkF0",
        "outputId": "c850c1b2-dd91-46e4-ba11-8c734c947a1c",
        "colab": {
          "base_uri": "https://localhost:8080/"
        }
      },
      "source": [
        "name=str(input('enter ur name:'))\r\n",
        "age=int(input('enter ur age:'))\r\n",
        "print('the users name is ',name + '. The age of the user is',age)"
      ],
      "execution_count": 4,
      "outputs": [
        {
          "output_type": "stream",
          "text": [
            "enter ur name:Safisha Joshi\n",
            "enter ur age:20\n",
            "the users name is  Safisha Joshi. The age of the user is 20\n"
          ],
          "name": "stdout"
        }
      ]
    },
    {
      "cell_type": "markdown",
      "metadata": {
        "id": "Fw-qO1W9WlGW"
      },
      "source": [
        "5. Write and test a program that computes the area of a circle. This program should request a number representing  a radius as input from the user. It should use the formula 3.14*radius**2 to compute the area and then output this result suitably labeled."
      ]
    },
    {
      "cell_type": "code",
      "metadata": {
        "id": "PwqzW8U-W8fB",
        "outputId": "a1d1e0b2-3d47-42ab-e03a-14793a3606e7",
        "colab": {
          "base_uri": "https://localhost:8080/"
        }
      },
      "source": [
        "r=int(input('enter the radius of the circle:'))\r\n",
        "area=3.14 * (r**2)\r\n",
        "print('the area of circle is',area)"
      ],
      "execution_count": 5,
      "outputs": [
        {
          "output_type": "stream",
          "text": [
            "enter the radius of the circle:5\n",
            "the area of circle is 78.5\n"
          ],
          "name": "stdout"
        }
      ]
    },
    {
      "cell_type": "markdown",
      "metadata": {
        "id": "roHMT8eHXDFg"
      },
      "source": [
        "6. Enter an input statement using the input function at the shll prompt. When the prompt asks you for input, enter a number. Then, attempt to add 1 to that number, observe the results and explain what happened."
      ]
    },
    {
      "cell_type": "code",
      "metadata": {
        "id": "Y9danKsrXXLJ",
        "outputId": "4606fe26-b54b-4a1c-a1c9-fab99267063c",
        "colab": {
          "base_uri": "https://localhost:8080/"
        }
      },
      "source": [
        "a=int(input('enter a number:'))\r\n",
        "b=a+1\r\n",
        "print(b)"
      ],
      "execution_count": 6,
      "outputs": [
        {
          "output_type": "stream",
          "text": [
            "enter a number:8\n",
            "9\n"
          ],
          "name": "stdout"
        }
      ]
    },
    {
      "cell_type": "markdown",
      "metadata": {
        "id": "on0k6dGFJvd-"
      },
      "source": [
        "in input statement we should declare int. otherwise the input function takes it as a string."
      ]
    },
    {
      "cell_type": "markdown",
      "metadata": {
        "id": "-ud9b4rIXdyO"
      },
      "source": [
        "7. Enter the expression help() at the shell prompt. Follow the instructions to browse the topics and modules."
      ]
    },
    {
      "cell_type": "code",
      "metadata": {
        "id": "Q6DP_R5hXmmS"
      },
      "source": [
        "help()"
      ],
      "execution_count": null,
      "outputs": []
    },
    {
      "cell_type": "markdown",
      "metadata": {
        "id": "Mh0jLr5HYCzo"
      },
      "source": [
        "8. The tax calculator program of the case study outputs a floating-point number that might show more than two digits of precision. Use the round function to modify the program to display at most two digits of precision in the output number."
      ]
    },
    {
      "cell_type": "code",
      "metadata": {
        "id": "6JN4PaojYEK4",
        "outputId": "b2e18e4a-ec05-4768-b5a9-5c00feb28439",
        "colab": {
          "base_uri": "https://localhost:8080/"
        }
      },
      "source": [
        "taxrate = 0.20\r\n",
        "standard_deduction = 10000.0\r\n",
        "dependent_deduction = 3000.0\r\n",
        "grossIncome = float(input(\"Enter the gross income: \"))\r\n",
        "numDependents = int(input(\"Enter the number of dependents: \")) \r\n",
        "taxableIncome = grossIncome - standard_deduction - \\\r\n",
        "dependent_deduction * numDependents\r\n",
        "incomeTax = taxableIncome * taxrate\r\n",
        "print(\"The income tax is \" ,incomeTax) "
      ],
      "execution_count": 13,
      "outputs": [
        {
          "output_type": "stream",
          "text": [
            "Enter the gross income: 4000\n",
            "Enter the number of dependents: 20\n",
            "The income tax is  -13200.0\n"
          ],
          "name": "stdout"
        }
      ]
    },
    {
      "cell_type": "markdown",
      "metadata": {
        "id": "SeHW1j9kYF8Q"
      },
      "source": [
        "9. You can calculate the surface area of a cube if you know the length of an edge. Write a program that takes the length of an edge(an integer) as input and prints the cube's surface area as output."
      ]
    },
    {
      "cell_type": "code",
      "metadata": {
        "id": "otcAXgxxYkx6",
        "outputId": "b56bcf31-5e0f-4cac-c371-5ed6324c6d20",
        "colab": {
          "base_uri": "https://localhost:8080/"
        }
      },
      "source": [
        "length=int(input('enter the length of the cube'))\r\n",
        "area=6*(length**2)\r\n",
        "print('the cubes surface area is',area)"
      ],
      "execution_count": 7,
      "outputs": [
        {
          "output_type": "stream",
          "text": [
            "enter the length of the cube6\n",
            "the cubes surface area is 216\n"
          ],
          "name": "stdout"
        }
      ]
    },
    {
      "cell_type": "markdown",
      "metadata": {
        "id": "O3379lCKYlcr"
      },
      "source": [
        "10.Five Star Retro Video rents VHS tapes and DVDs to the same connoisseurs who like to buy LP record albums. The store rents new videos for $3.00 a night, and oldies for $2.00 a night.\r\n",
        "\r\n",
        "Write a program that the clerks at Five Star Retro Video can use to calculate the total charge for a customer’s video rentals.\r\n",
        "\r\n",
        "The program should prompt the user for the number of each type of video and output the total cost."
      ]
    },
    {
      "cell_type": "code",
      "metadata": {
        "id": "kKoIAmUpY4dY",
        "outputId": "46184b18-27ba-4b3c-99de-9e74a3c3f2ab",
        "colab": {
          "base_uri": "https://localhost:8080/"
        }
      },
      "source": [
        "a=int(input('enter the number of new videos'))\r\n",
        "b=int(input('enter the number of ole videos'))\r\n",
        "total=3*a+2*b\r\n",
        "print('The total cost is',total)\r\n"
      ],
      "execution_count": 14,
      "outputs": [
        {
          "output_type": "stream",
          "text": [
            "enter the number of new videos5\n",
            "enter the number of ole videos2\n",
            "The total cost is 19\n"
          ],
          "name": "stdout"
        }
      ]
    },
    {
      "cell_type": "markdown",
      "metadata": {
        "id": "oBQWzZuoY9dH"
      },
      "source": [
        "11. Write a program that takes the radius of a sphere(a floating point number) as input and then outputs the sphere's diameter, circumference, surface area and volume."
      ]
    },
    {
      "cell_type": "code",
      "metadata": {
        "id": "MNAlLLYrbatP",
        "outputId": "eb05a170-a91d-468b-8bc7-967e1726a6a4",
        "colab": {
          "base_uri": "https://localhost:8080/"
        }
      },
      "source": [
        "radius=float(input('enter the radius of the sphere:'))\r\n",
        "d=2*radius\r\n",
        "c=6.2832*radius\r\n",
        "area=4*3.14*(radius**2)\r\n",
        "v=(4/3)*3.14*(radius**3)\r\n",
        "print('the diameter of sphere is',d)\r\n",
        "print('The circumference is',c) \r\n",
        "print('The surface area is',area)\r\n",
        "print('The volume is',v)"
      ],
      "execution_count": 8,
      "outputs": [
        {
          "output_type": "stream",
          "text": [
            "enter the radius of the sphere:5\n",
            "the diameter of sphere is 10.0\n",
            "The circumference is 31.416\n",
            "The surface area is 314.0\n",
            "The volume is 523.3333333333334\n"
          ],
          "name": "stdout"
        }
      ]
    },
    {
      "cell_type": "markdown",
      "metadata": {
        "id": "zOx3W9G8bb_2"
      },
      "source": [
        "12. Instructions An object's momentum is its mass multiplied by its velocity. Write a program that accepts an object's mass (in kilograms) and velocity (in meters per second) as inputs, and then outputs its momentum."
      ]
    },
    {
      "cell_type": "code",
      "metadata": {
        "id": "hlYAuUajdI0X",
        "outputId": "0d570596-b37b-4879-8dfd-a668214a4dc6",
        "colab": {
          "base_uri": "https://localhost:8080/"
        }
      },
      "source": [
        "mass=int(input('enter the mass in kg:'))\r\n",
        "velocity=int(input('enter the velocity of the object in m/s:'))\r\n",
        "momentum=mass*velocity\r\n",
        "print('momentum is ',momentum)"
      ],
      "execution_count": 9,
      "outputs": [
        {
          "output_type": "stream",
          "text": [
            "enter the mass in kg:50\n",
            "enter the velocity of the object in m/s:10\n",
            "momentum is  500\n"
          ],
          "name": "stdout"
        }
      ]
    },
    {
      "cell_type": "markdown",
      "metadata": {
        "id": "jU4yPCcrdf0D"
      },
      "source": [
        "13. The kinetic energy of a moving object is given by the formula KE = ½mv2 where m is the object’s mass and v is its velocity.\r\n",
        "\r\n",
        "Modify the program you created in Project 5 so that it prints the object’s kinetic energy as well as its momentum."
      ]
    },
    {
      "cell_type": "code",
      "metadata": {
        "id": "ocVu-KGkd9lN",
        "outputId": "0abaabd1-ecc8-45c0-c805-e84dd39ab997",
        "colab": {
          "base_uri": "https://localhost:8080/"
        }
      },
      "source": [
        "mass=int(input('enter the mass in kg:'))\r\n",
        "velocity=int(input('enter the velocity of the object in m/s:'))\r\n",
        "momentum=mass*velocity\r\n",
        "ke=(1/2)*mass*(velocity**2)\r\n",
        "print('momentum is ',momentum)\r\n",
        "print('kinetic energy is',ke)"
      ],
      "execution_count": 10,
      "outputs": [
        {
          "output_type": "stream",
          "text": [
            "enter the mass in kg:50\n",
            "enter the velocity of the object in m/s:10\n",
            "momentum is  500\n",
            "kinetic energy is 2500.0\n"
          ],
          "name": "stdout"
        }
      ]
    },
    {
      "cell_type": "markdown",
      "metadata": {
        "id": "KGUdbd0Od-TE"
      },
      "source": [
        "14. An employee’s total weekly pay equals the hourly wage multiplied by the total number of regular hours plus any overtime pay. Overtime pay equals the total overtime hours multiplied by 1.5 times the hourly wage. Write a program that takes as inputs the hourly wage, total regular hours, and total overtime hours and displays an employee’s total weekly pay."
      ]
    },
    {
      "cell_type": "code",
      "metadata": {
        "id": "d4lYL0jFekM1",
        "outputId": "9687a693-dd27-453d-bacc-29117d2e2ed1",
        "colab": {
          "base_uri": "https://localhost:8080/"
        }
      },
      "source": [
        "a=int(input('enter the hourly wage:'))\r\n",
        "b=int(input('enter the total regular hours:'))\r\n",
        "c=int(input('enter the total overtime hours:'))\r\n",
        "d=c*1.5*a\r\n",
        "pay=7*(a*b+d)\r\n",
        "print('the total weekly pay is',pay)"
      ],
      "execution_count": 11,
      "outputs": [
        {
          "output_type": "stream",
          "text": [
            "enter the hourly wage:10\n",
            "enter the total regular hours:5\n",
            "enter the total overtime hours:2\n",
            "the total weekly pay is 560.0\n"
          ],
          "name": "stdout"
        }
      ]
    },
    {
      "cell_type": "markdown",
      "metadata": {
        "id": "6KBqGepcfGWI"
      },
      "source": [
        ""
      ]
    }
  ]
}